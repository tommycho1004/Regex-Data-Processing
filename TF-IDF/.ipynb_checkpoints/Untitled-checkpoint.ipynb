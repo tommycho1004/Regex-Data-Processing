{
 "cells": [
  {
   "cell_type": "code",
   "execution_count": 3,
   "id": "7261e11f-6882-4462-932a-327c9473ea21",
   "metadata": {},
   "outputs": [],
   "source": [
    "import re\n",
    "import math"
   ]
  },
  {
   "cell_type": "code",
   "execution_count": 7,
   "id": "a3f000f9-d38a-4186-8579-7a79cbddfe3b",
   "metadata": {},
   "outputs": [
    {
     "name": "stdout",
     "output_type": "stream",
     "text": [
      "doc1.txt\n",
      "['it', 'it', 'it', 'is', 'going', 'to', 'rain', 'hello', 'learn', 'punishment', 'flying', 'boing', 'lament']\n",
      "['going', 'rain', 'hello', 'learn', 'punishment', 'flying', 'boing', 'lament']\n",
      "go\n",
      "punish\n",
      "fly\n",
      "bo\n",
      "la\n",
      "doc2.txt\n",
      "['today', 'i', 'am', 'not', 'going', '89302', 'hi', 'the', 'quick', 'brown', 'jumps']\n",
      "['today', 'going', '89302', 'hi', 'quick', 'brown', 'jumps']\n",
      "go\n",
      "doc3.txt\n",
      "['i', 'am', 'going', 'to', 'watch', 'the', 'season']\n",
      "['going', 'watch', 'season']\n",
      "go\n"
     ]
    }
   ],
   "source": [
    "# create list with files\n",
    "pf = open(\"tfidf_docs.txt\", \"r\")\n",
    "fileList = []\n",
    "for r in pf:\n",
    "    fileList.append(r.strip())\n",
    "pf.close()\n",
    "title = 'preproc_'\n",
    "for file in fileList:\n",
    "    print(file)\n",
    "    cleanedList = clean(file)\n",
    "    noStopWordList = stopWords(cleanedList)\n",
    "    finishedList = stemLemming(noStopWordList)\n",
    "    outputFile = open(title+file, 'w')\n",
    "    outputFile.write(' '.join(finishedList))"
   ]
  },
  {
   "cell_type": "code",
   "execution_count": 4,
   "id": "2d30767c-010b-450e-942d-cf0d01be8348",
   "metadata": {},
   "outputs": [],
   "source": [
    "# preprocessing\n",
    "def clean(fileName):\n",
    "    stringList = []\n",
    "    wordList = []\n",
    "    pf = open(fileName, 'r')\n",
    "    allOfIt = pf.readlines()\n",
    "    pf.close()\n",
    "    for line in allOfIt:\n",
    "        stringList = (line.lower().split(' '))\n",
    "        #print(stringList)\n",
    "        for string in stringList:\n",
    "            if string.replace('_', '').isalnum():\n",
    "                wordList.append(string)\n",
    "            elif string.endswith(\"'s\"):\n",
    "                string.replace(\"'\", \"\")\n",
    "                wordList.append(string)\n",
    "            elif string.endswith(\".\"):\n",
    "                string.replace(\".\", \"\")\n",
    "                wordList.append(string)\n",
    "    print(wordList)\n",
    "    return wordList"
   ]
  },
  {
   "cell_type": "code",
   "execution_count": 5,
   "id": "6b78aeb3-e721-4da3-bfc3-6a077cfc39fb",
   "metadata": {},
   "outputs": [],
   "source": [
    "def stopWords(list):\n",
    "    stopList = []\n",
    "    outputList = []\n",
    "    pf = open('stopwords.txt')\n",
    "    stopwords = pf.readlines()\n",
    "    for word in stopwords:\n",
    "        stopList.append(word.strip())\n",
    "    outputList = [word for word in list if word not in stopList]\n",
    "    print(outputList)\n",
    "    return outputList"
   ]
  },
  {
   "cell_type": "code",
   "execution_count": 6,
   "id": "7a570952-a2b3-435e-8b08-8fe85d86e1c6",
   "metadata": {},
   "outputs": [],
   "source": [
    "def stemLemming(list):\n",
    "    outputList = []\n",
    "    for word in list:\n",
    "        if word.endswith('ing'):\n",
    "            word = word[:len(word)-3]\n",
    "            print(word)\n",
    "        elif word.endswith('ly'):\n",
    "            word = word[:len(word)-2]\n",
    "            print(word)\n",
    "        elif word.endswith('ment'):\n",
    "            word = word[:len(word)-4]\n",
    "            print(word)\n",
    "        outputList.append(word)\n",
    "    return outputList"
   ]
  },
  {
   "cell_type": "code",
   "execution_count": null,
   "id": "ffb3bd20-528f-466a-b1ce-f104150e912d",
   "metadata": {},
   "outputs": [],
   "source": []
  }
 ],
 "metadata": {
  "kernelspec": {
   "display_name": "Python 3 (ipykernel)",
   "language": "python",
   "name": "python3"
  },
  "language_info": {
   "codemirror_mode": {
    "name": "ipython",
    "version": 3
   },
   "file_extension": ".py",
   "mimetype": "text/x-python",
   "name": "python",
   "nbconvert_exporter": "python",
   "pygments_lexer": "ipython3",
   "version": "3.9.7"
  }
 },
 "nbformat": 4,
 "nbformat_minor": 5
}
