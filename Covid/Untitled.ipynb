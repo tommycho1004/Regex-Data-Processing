{
 "cells": [
  {
   "cell_type": "code",
   "execution_count": 10,
   "id": "c2abaeb2-5b1e-46b6-8ba9-24488c6454b1",
   "metadata": {},
   "outputs": [],
   "source": [
    "import csv\n",
    "import re\n",
    "from collections import Counter"
   ]
  },
  {
   "cell_type": "code",
   "execution_count": 11,
   "id": "d61a3be2-5c66-4ba0-8afb-39b5c9362ae6",
   "metadata": {},
   "outputs": [],
   "source": [
    "def age_average(csvData):\n",
    "    csvData = csvData.split('-')\n",
    "    try:\n",
    "        return round((int(csvData[0]) + int(csvData[1]))/2)\n",
    "    except:\n",
    "        return round(int(csvData[0]))"
   ]
  },
  {
   "cell_type": "code",
   "execution_count": 12,
   "id": "13169efc-933e-4214-bb66-c11d028e350e",
   "metadata": {},
   "outputs": [],
   "source": [
    "def dateSwapper(dateList):\n",
    "    dateList[0], dateList[1] = dateList[1], dateList[0]\n",
    "    return dateList"
   ]
  },
  {
   "cell_type": "code",
   "execution_count": 13,
   "id": "0b6aa8e8-70c3-408c-b34f-35f8f28f23ec",
   "metadata": {},
   "outputs": [],
   "source": [
    "def latitudeAvg(province):\n",
    "    lat_list = []\n",
    "    with open('covidTrain.csv') as f:\n",
    "        reader = csv.reader(f)\n",
    "        next(reader)\n",
    "        for row in reader:\n",
    "            if row[4] == province:\n",
    "                if row[6] != \"NaN\":\n",
    "                    lat_list.append(float(row[6]))\n",
    "    return round((sum(lat_list) / len(lat_list)),2)"
   ]
  },
  {
   "cell_type": "code",
   "execution_count": 14,
   "id": "b7d9886d-73ea-4c63-919b-9a7d28a75d33",
   "metadata": {},
   "outputs": [],
   "source": [
    "def longitudeAvg(province):\n",
    "    lon_list = []\n",
    "    with open('covidTrain.csv') as f:\n",
    "        reader = csv.reader(f)\n",
    "        next(reader)\n",
    "        for row in reader:\n",
    "            if row[4] == province:\n",
    "                if row[7] != \"NaN\":\n",
    "                    lon_list.append(float(row[7]))\n",
    "    return round((sum(lon_list) / len(lon_list)),2)"
   ]
  },
  {
   "cell_type": "code",
   "execution_count": 15,
   "id": "d6ebb0e1-8d8a-406b-9f38-cf51fad629a0",
   "metadata": {},
   "outputs": [],
   "source": [
    "def commonCity(province):\n",
    "    city_list = []\n",
    "    with open('covidTrain.csv') as f:\n",
    "        reader = csv.reader(f)\n",
    "        next(reader)\n",
    "        for row in reader:\n",
    "            if row[4] == province:\n",
    "                if row[3] != \"NaN\":   \n",
    "                    city_list.append(row[3])\n",
    "        citySorted = (sorted(Counter(city_list).most_common(), key=lambda x: (-x[1], x[0])))\n",
    "        return citySorted[0][0]\n",
    "    "
   ]
  },
  {
   "cell_type": "code",
   "execution_count": 16,
   "id": "1efd2d4f-e3f8-4fce-8747-d0390d6a6efc",
   "metadata": {},
   "outputs": [],
   "source": [
    "def symptomsHelper(province):\n",
    "    symptom_list = []\n",
    "    with open('covidTrain.csv') as f:\n",
    "        reader = csv.reader(f)\n",
    "        next(reader)\n",
    "        for row in reader:\n",
    "            i = 0\n",
    "            if row[4] == province:\n",
    "                if row[11] != \"NaN\":   \n",
    "                    temp = row[11].strip('').split(';')\n",
    "                    symptom_list.extend([s.strip() for s in temp])\n",
    "        while i < len(symptom_list):\n",
    "            if re.match('fever.+', symptom_list[i]):\n",
    "            symptom_list[i] = 'fever'\n",
    "            i = i+1\n",
    "        symptomSorted = (sorted(Counter(symptom_list).most_common(), key=lambda x: (-x[1], x[0])))\n",
    "        print(symptomSorted)\n",
    "        return symptomSorted[0][0]"
   ]
  },
  {
   "cell_type": "code",
   "execution_count": 17,
   "id": "d437e2b6-ada2-4353-9eb8-c7d2b8f7132e",
   "metadata": {},
   "outputs": [
    {
     "name": "stdout",
     "output_type": "stream",
     "text": [
      "[('fever', 5), ('headache', 1)]\n",
      "[('fever', 27), ('cough', 6), ('chills', 2), ('muscle soreness', 2), ('chest pain', 1), ('chest tightness', 1), ('dry cough', 1), ('headache', 1), ('joint pain', 1), ('nasal congestion', 1), ('pharyngalgia', 1), ('pharyngeal discomfort', 1), ('physical discomfort', 1), ('sore throat', 1), ('sweating', 1)]\n",
      "[('fever', 27), ('cough', 6), ('chills', 2), ('muscle soreness', 2), ('chest pain', 1), ('chest tightness', 1), ('dry cough', 1), ('headache', 1), ('joint pain', 1), ('nasal congestion', 1), ('pharyngalgia', 1), ('pharyngeal discomfort', 1), ('physical discomfort', 1), ('sore throat', 1), ('sweating', 1)]\n",
      "[('fever', 27), ('cough', 6), ('chills', 2), ('muscle soreness', 2), ('chest pain', 1), ('chest tightness', 1), ('dry cough', 1), ('headache', 1), ('joint pain', 1), ('nasal congestion', 1), ('pharyngalgia', 1), ('pharyngeal discomfort', 1), ('physical discomfort', 1), ('sore throat', 1), ('sweating', 1)]\n",
      "[('fever', 27), ('cough', 6), ('chills', 2), ('muscle soreness', 2), ('chest pain', 1), ('chest tightness', 1), ('dry cough', 1), ('headache', 1), ('joint pain', 1), ('nasal congestion', 1), ('pharyngalgia', 1), ('pharyngeal discomfort', 1), ('physical discomfort', 1), ('sore throat', 1), ('sweating', 1)]\n",
      "[('fever', 27), ('cough', 6), ('chills', 2), ('muscle soreness', 2), ('chest pain', 1), ('chest tightness', 1), ('dry cough', 1), ('headache', 1), ('joint pain', 1), ('nasal congestion', 1), ('pharyngalgia', 1), ('pharyngeal discomfort', 1), ('physical discomfort', 1), ('sore throat', 1), ('sweating', 1)]\n",
      "[('fever', 27), ('cough', 6), ('chills', 2), ('muscle soreness', 2), ('chest pain', 1), ('chest tightness', 1), ('dry cough', 1), ('headache', 1), ('joint pain', 1), ('nasal congestion', 1), ('pharyngalgia', 1), ('pharyngeal discomfort', 1), ('physical discomfort', 1), ('sore throat', 1), ('sweating', 1)]\n",
      "[('fever', 27), ('cough', 6), ('chills', 2), ('muscle soreness', 2), ('chest pain', 1), ('chest tightness', 1), ('dry cough', 1), ('headache', 1), ('joint pain', 1), ('nasal congestion', 1), ('pharyngalgia', 1), ('pharyngeal discomfort', 1), ('physical discomfort', 1), ('sore throat', 1), ('sweating', 1)]\n",
      "[('fever', 27), ('cough', 6), ('chills', 2), ('muscle soreness', 2), ('chest pain', 1), ('chest tightness', 1), ('dry cough', 1), ('headache', 1), ('joint pain', 1), ('nasal congestion', 1), ('pharyngalgia', 1), ('pharyngeal discomfort', 1), ('physical discomfort', 1), ('sore throat', 1), ('sweating', 1)]\n",
      "[('fever', 6), ('respiratory symptoms', 3)]\n",
      "[('fever', 15), ('cough', 10), ('fatigue', 3), ('sputum', 3), ('discomfort', 2), ('dry cough', 2), ('dry mouth', 2), ('dry throat', 2), ('headache', 2), ('chills', 1), ('cold', 1), ('diarrhea', 1), ('muscular soreness', 1), ('pharyngeal discomfort', 1), ('runny nose', 1), ('sore body', 1), ('sore throat', 1), ('throat discomfort', 1), ('weak', 1)]\n",
      "[('fever', 15), ('cough', 10), ('fatigue', 3), ('sputum', 3), ('discomfort', 2), ('dry cough', 2), ('dry mouth', 2), ('dry throat', 2), ('headache', 2), ('chills', 1), ('cold', 1), ('diarrhea', 1), ('muscular soreness', 1), ('pharyngeal discomfort', 1), ('runny nose', 1), ('sore body', 1), ('sore throat', 1), ('throat discomfort', 1), ('weak', 1)]\n",
      "[('fever', 15), ('cough', 10), ('fatigue', 3), ('sputum', 3), ('discomfort', 2), ('dry cough', 2), ('dry mouth', 2), ('dry throat', 2), ('headache', 2), ('chills', 1), ('cold', 1), ('diarrhea', 1), ('muscular soreness', 1), ('pharyngeal discomfort', 1), ('runny nose', 1), ('sore body', 1), ('sore throat', 1), ('throat discomfort', 1), ('weak', 1)]\n",
      "[('fever', 15), ('cough', 10), ('fatigue', 3), ('sputum', 3), ('discomfort', 2), ('dry cough', 2), ('dry mouth', 2), ('dry throat', 2), ('headache', 2), ('chills', 1), ('cold', 1), ('diarrhea', 1), ('muscular soreness', 1), ('pharyngeal discomfort', 1), ('runny nose', 1), ('sore body', 1), ('sore throat', 1), ('throat discomfort', 1), ('weak', 1)]\n",
      "[('fever', 15), ('cough', 10), ('fatigue', 3), ('sputum', 3), ('discomfort', 2), ('dry cough', 2), ('dry mouth', 2), ('dry throat', 2), ('headache', 2), ('chills', 1), ('cold', 1), ('diarrhea', 1), ('muscular soreness', 1), ('pharyngeal discomfort', 1), ('runny nose', 1), ('sore body', 1), ('sore throat', 1), ('throat discomfort', 1), ('weak', 1)]\n",
      "[('fever', 15), ('cough', 10), ('fatigue', 3), ('sputum', 3), ('discomfort', 2), ('dry cough', 2), ('dry mouth', 2), ('dry throat', 2), ('headache', 2), ('chills', 1), ('cold', 1), ('diarrhea', 1), ('muscular soreness', 1), ('pharyngeal discomfort', 1), ('runny nose', 1), ('sore body', 1), ('sore throat', 1), ('throat discomfort', 1), ('weak', 1)]\n",
      "[('fever', 15), ('cough', 10), ('fatigue', 3), ('sputum', 3), ('discomfort', 2), ('dry cough', 2), ('dry mouth', 2), ('dry throat', 2), ('headache', 2), ('chills', 1), ('cold', 1), ('diarrhea', 1), ('muscular soreness', 1), ('pharyngeal discomfort', 1), ('runny nose', 1), ('sore body', 1), ('sore throat', 1), ('throat discomfort', 1), ('weak', 1)]\n",
      "[('fever', 15), ('cough', 10), ('fatigue', 3), ('sputum', 3), ('discomfort', 2), ('dry cough', 2), ('dry mouth', 2), ('dry throat', 2), ('headache', 2), ('chills', 1), ('cold', 1), ('diarrhea', 1), ('muscular soreness', 1), ('pharyngeal discomfort', 1), ('runny nose', 1), ('sore body', 1), ('sore throat', 1), ('throat discomfort', 1), ('weak', 1)]\n",
      "[('fever', 15), ('cough', 10), ('fatigue', 3), ('sputum', 3), ('discomfort', 2), ('dry cough', 2), ('dry mouth', 2), ('dry throat', 2), ('headache', 2), ('chills', 1), ('cold', 1), ('diarrhea', 1), ('muscular soreness', 1), ('pharyngeal discomfort', 1), ('runny nose', 1), ('sore body', 1), ('sore throat', 1), ('throat discomfort', 1), ('weak', 1)]\n",
      "[('fever', 15), ('cough', 10), ('fatigue', 3), ('sputum', 3), ('discomfort', 2), ('dry cough', 2), ('dry mouth', 2), ('dry throat', 2), ('headache', 2), ('chills', 1), ('cold', 1), ('diarrhea', 1), ('muscular soreness', 1), ('pharyngeal discomfort', 1), ('runny nose', 1), ('sore body', 1), ('sore throat', 1), ('throat discomfort', 1), ('weak', 1)]\n",
      "[('cough', 5), ('fever', 4), ('diarrhea', 2), ('weakness', 2), ('anhelation', 1), ('dizziness', 1), ('nasal congestion', 1), ('pleural effusion', 1), ('pleuritic chest pain', 1), ('rhinorrhoea', 1), ('sneezing', 1), ('sore throat', 1)]\n",
      "[('fever', 19), ('cough', 8), ('fatigue', 8), ('sore throat', 3), ('dry cough', 2), ('chest distress', 1), ('chest tightness', 1), ('diarrhea', 1), ('discomfort', 1), ('expectoration', 1), ('headache', 1), ('muscular soreness', 1), ('nasal congestion', 1), ('runny nose', 1), ('sneeze', 1), ('vomiting', 1), ('weak', 1)]\n",
      "[('fever', 19), ('cough', 8), ('fatigue', 8), ('sore throat', 3), ('dry cough', 2), ('chest distress', 1), ('chest tightness', 1), ('diarrhea', 1), ('discomfort', 1), ('expectoration', 1), ('headache', 1), ('muscular soreness', 1), ('nasal congestion', 1), ('runny nose', 1), ('sneeze', 1), ('vomiting', 1), ('weak', 1)]\n",
      "[('fever', 19), ('cough', 8), ('fatigue', 8), ('sore throat', 3), ('dry cough', 2), ('chest distress', 1), ('chest tightness', 1), ('diarrhea', 1), ('discomfort', 1), ('expectoration', 1), ('headache', 1), ('muscular soreness', 1), ('nasal congestion', 1), ('runny nose', 1), ('sneeze', 1), ('vomiting', 1), ('weak', 1)]\n",
      "[('fever', 19), ('cough', 8), ('fatigue', 8), ('sore throat', 3), ('dry cough', 2), ('chest distress', 1), ('chest tightness', 1), ('diarrhea', 1), ('discomfort', 1), ('expectoration', 1), ('headache', 1), ('muscular soreness', 1), ('nasal congestion', 1), ('runny nose', 1), ('sneeze', 1), ('vomiting', 1), ('weak', 1)]\n",
      "[('fever', 19), ('cough', 8), ('fatigue', 8), ('sore throat', 3), ('dry cough', 2), ('chest distress', 1), ('chest tightness', 1), ('diarrhea', 1), ('discomfort', 1), ('expectoration', 1), ('headache', 1), ('muscular soreness', 1), ('nasal congestion', 1), ('runny nose', 1), ('sneeze', 1), ('vomiting', 1), ('weak', 1)]\n",
      "[('fever', 19), ('cough', 8), ('fatigue', 8), ('sore throat', 3), ('dry cough', 2), ('chest distress', 1), ('chest tightness', 1), ('diarrhea', 1), ('discomfort', 1), ('expectoration', 1), ('headache', 1), ('muscular soreness', 1), ('nasal congestion', 1), ('runny nose', 1), ('sneeze', 1), ('vomiting', 1), ('weak', 1)]\n",
      "[('discomfort', 1), ('nausea', 1), ('vomiting', 1)]\n",
      "[('fever', 11), ('cough', 9), ('chills', 1), ('dyspnea', 1), ('myalgia', 1), ('shortness of breath', 1)]\n"
     ]
    }
   ],
   "source": [
    "with open('covidTrain.csv') as covidfile:\n",
    "    reader = csv.reader(covidfile)\n",
    "    next(reader)                           # skip first line of field names\n",
    "    \n",
    "    for row in reader:\n",
    "        if re.match('[0-9]+-[0-9]+', row[1]):\n",
    "            temp = [int(n) for n in row[1].split('-')]\n",
    "            row[1] = round(sum(temp)/2)\n",
    "            #print(row[1])\n",
    "        row[8] = \".\".join(dateSwapper(row[8].split('.')))\n",
    "        row[9] = \".\".join(dateSwapper(row[8].split('.')))\n",
    "        row[10] = \".\".join(dateSwapper(row[8].split('.')))\n",
    "        if re.match('NaN', row[6]):\n",
    "            row[6] = latitudeAvg(row[4])\n",
    "        if re.match('NaN', row[7]):\n",
    "            row[7] = longitudeAvg(row[4])\n",
    "        if re.match('NaN', row[3]):\n",
    "            row[3] = commonCity(row[4])\n",
    "        if re.match('NaN', row[11]):\n",
    "            row[11] = symptomsHelper(row[4])\n",
    "            "
   ]
  },
  {
   "cell_type": "code",
   "execution_count": null,
   "id": "13e796e5-9493-4001-afdd-81c631ecb451",
   "metadata": {},
   "outputs": [],
   "source": []
  },
  {
   "cell_type": "code",
   "execution_count": 18,
   "id": "a2bf7f4c-db10-4ee1-a3cb-57978f27300a",
   "metadata": {},
   "outputs": [
    {
     "name": "stdout",
     "output_type": "stream",
     "text": [
      "['fever', 'fever', 'fever']\n"
     ]
    }
   ],
   "source": [
    "symptom_list = ['fever', 'fever (38-39C)', 'fever 37.7C']\n",
    "i=0\n",
    "while i < len(symptom_list):\n",
    "    if re.match('fever.+', symptom_list[i]):\n",
    "        symptom_list[i] = 'fever'\n",
    "    i = i+1\n",
    "print(symptom_list)"
   ]
  },
  {
   "cell_type": "code",
   "execution_count": null,
   "id": "ca027a9b-3164-4219-aa8e-dcc1eb97c8de",
   "metadata": {},
   "outputs": [],
   "source": []
  }
 ],
 "metadata": {
  "kernelspec": {
   "display_name": "Python 3 (ipykernel)",
   "language": "python",
   "name": "python3"
  },
  "language_info": {
   "codemirror_mode": {
    "name": "ipython",
    "version": 3
   },
   "file_extension": ".py",
   "mimetype": "text/x-python",
   "name": "python",
   "nbconvert_exporter": "python",
   "pygments_lexer": "ipython3",
   "version": "3.9.7"
  }
 },
 "nbformat": 4,
 "nbformat_minor": 5
}
